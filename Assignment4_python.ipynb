{
 "cells": [
  {
   "cell_type": "code",
   "execution_count": 1,
   "metadata": {},
   "outputs": [],
   "source": [
    "import glob\n",
    "import pandas as pd\n",
    "import matplotlib.pyplot as plt\n",
    "import sys\n",
    "#from Bio import SeqIO"
   ]
  },
  {
   "cell_type": "code",
   "execution_count": 67,
   "metadata": {},
   "outputs": [
    {
     "name": "stdout",
     "output_type": "stream",
     "text": [
      "ATTTGGATT\n"
     ]
    }
   ],
   "source": [
    "#to read file\n",
    "f = open('sampleseq.fasta', 'r')\n",
    "fasta = f.readlines()\n",
    "sequence = fasta[1].rstrip()\n",
    "print(sequence)"
   ]
  },
  {
   "cell_type": "code",
   "execution_count": 68,
   "metadata": {},
   "outputs": [
    {
     "data": {
      "text/plain": [
       "9"
      ]
     },
     "execution_count": 68,
     "metadata": {},
     "output_type": "execute_result"
    }
   ],
   "source": [
    "len(sequence)"
   ]
  },
  {
   "cell_type": "code",
   "execution_count": 70,
   "metadata": {},
   "outputs": [
    {
     "data": {
      "text/plain": [
       "4"
      ]
     },
     "execution_count": 70,
     "metadata": {},
     "output_type": "execute_result"
    }
   ],
   "source": [
    "#To generate observed kmers\n",
    "def observedkmers(sequence,k):\n",
    "    counter = {}\n",
    "    for i in range(len(sequence)-k+1):\n",
    "        kmer = sequence[i:i+k]\n",
    "        if kmer in counter:\n",
    "            counter[kmer] += 1\n",
    "        else:\n",
    "            counter[kmer] = 1\n",
    "    return len(counter)\n",
    "\n",
    "observedkmers(sequence,6)"
   ]
  },
  {
   "cell_type": "code",
   "execution_count": null,
   "metadata": {},
   "outputs": [],
   "source": [
    "#to read file\n",
    "f = open('sampleseq.fasta', 'r')\n",
    "fasta = f.readlines()\n",
    "seq = fasta[1].rstrip()\n",
    "print(seq)\n",
    "#count possible kmers\n",
    "for k in range(1,len(seq)+1):\n",
    "    if k == 1:\n",
    "        poss = 4**1\n",
    "    else:\n",
    "        if 4**k < (len(seq)):\n",
    "            poss = 4**k\n",
    "        else:\n",
    "            poss = (len(seq)) - k + 1\n",
    "    print(poss)"
   ]
  },
  {
   "cell_type": "code",
   "execution_count": null,
   "metadata": {},
   "outputs": [],
   "source": [
    "for line_num in range(1,len(seq)+1):\n",
    "    print(line_num)"
   ]
  },
  {
   "cell_type": "code",
   "execution_count": 170,
   "metadata": {},
   "outputs": [
    {
     "name": "stdout",
     "output_type": "stream",
     "text": [
      "[6, 6]\n",
      "7\n",
      "6\n",
      "6\n",
      "5\n",
      "5\n"
     ]
    },
    {
     "ename": "AttributeError",
     "evalue": "'Seq' object has no attribute 'join'",
     "output_type": "error",
     "traceback": [
      "\u001b[0;31m---------------------------------------------------------------------------\u001b[0m",
      "\u001b[0;31mAttributeError\u001b[0m                            Traceback (most recent call last)",
      "\u001b[0;32m<ipython-input-170-55e1d9f929f8>\u001b[0m in \u001b[0;36m<module>\u001b[0;34m()\u001b[0m\n\u001b[1;32m     59\u001b[0m \u001b[0mpossible\u001b[0m \u001b[0;34m=\u001b[0m \u001b[0;34m[\u001b[0m\u001b[0;34m]\u001b[0m\u001b[0;34m\u001b[0m\u001b[0m\n\u001b[1;32m     60\u001b[0m \u001b[0;32mfor\u001b[0m \u001b[0mi\u001b[0m \u001b[0;32min\u001b[0m \u001b[0mrange\u001b[0m\u001b[0;34m(\u001b[0m\u001b[0;36m1\u001b[0m\u001b[0;34m,\u001b[0m\u001b[0mlen\u001b[0m\u001b[0;34m(\u001b[0m\u001b[0msequence\u001b[0m\u001b[0;34m)\u001b[0m\u001b[0;34m+\u001b[0m\u001b[0;36m1\u001b[0m\u001b[0;34m)\u001b[0m\u001b[0;34m:\u001b[0m\u001b[0;34m\u001b[0m\u001b[0m\n\u001b[0;32m---> 61\u001b[0;31m     \u001b[0mknum\u001b[0m \u001b[0;34m=\u001b[0m \u001b[0mSeq\u001b[0m\u001b[0;34m(\u001b[0m\u001b[0;34m\"\"\u001b[0m\u001b[0;34m)\u001b[0m\u001b[0;34m.\u001b[0m\u001b[0mjoin\u001b[0m\u001b[0;34m(\u001b[0m\u001b[0msequence\u001b[0m\u001b[0;34m.\u001b[0m\u001b[0mknum\u001b[0m\u001b[0;34m(\u001b[0m\u001b[0mi\u001b[0m\u001b[0;34m)\u001b[0m\u001b[0;34m)\u001b[0m\u001b[0;34m\u001b[0m\u001b[0m\n\u001b[0m\u001b[1;32m     62\u001b[0m     \u001b[0mobserved\u001b[0m \u001b[0;34m+=\u001b[0m \u001b[0msequence\u001b[0m\u001b[0;34m.\u001b[0m\u001b[0mobservedkmers\u001b[0m\u001b[0;34m(\u001b[0m\u001b[0mi\u001b[0m\u001b[0;34m)\u001b[0m\u001b[0;34m\u001b[0m\u001b[0m\n\u001b[1;32m     63\u001b[0m     \u001b[0mpossible\u001b[0m \u001b[0;34m+=\u001b[0m \u001b[0msequence\u001b[0m\u001b[0;34m.\u001b[0m\u001b[0mpossiblekmers\u001b[0m\u001b[0;34m(\u001b[0m\u001b[0mi\u001b[0m\u001b[0;34m)\u001b[0m\u001b[0;34m\u001b[0m\u001b[0m\n",
      "\u001b[0;31mAttributeError\u001b[0m: 'Seq' object has no attribute 'join'"
     ]
    }
   ],
   "source": [
    "#1. Create a Seq object that accepts a DNA sequence (a string).\n",
    "class Seq(object): \n",
    "    knum = []\n",
    "    observed = []\n",
    "    possible = []\n",
    "    \n",
    "    def __init__(self,sequence):\n",
    "        self.sequence = sequence\n",
    "    \n",
    "    def __len__(self):\n",
    "        '''redefine length as length of sequence'''\n",
    "        return len(self.sequence) \n",
    "    \n",
    "    def knum(self,k):\n",
    "        return k\n",
    "    \n",
    "    def observedkmers(self,k):\n",
    "        '''2. Add a method to count kmers of size k, where k is specified as a argument.'''\n",
    "        counter = {}\n",
    "        for i in range(len(self.sequence)-k+1):\n",
    "            kmer = seq[i:i+k]\n",
    "            if kmer not in counter:\n",
    "                counter[kmer] = 0\n",
    "            counter[kmer]+=1\n",
    "        return len(counter)\n",
    "    \n",
    "    def possiblekmers(self,k):\n",
    "        '''2. Add a method to count kmers of size k, where k is specified as a argument.'''\n",
    "        #for k in range(1, len(self.sequence)+1):\n",
    "            if k == 1:\n",
    "                poss = 4**1\n",
    "            else:\n",
    "                if 4**k < (len(self.sequence)):\n",
    "                    poss = 4**k\n",
    "                else:\n",
    "                    poss = (len(self.sequence)) - k + 1\n",
    "            return poss\n",
    "        \n",
    "    def ligcomplexity(self,k):\n",
    "        '''5. Add a method to calculate linguistic complexity.'''\n",
    "        self.sequence.observedkmers(k) = obs\n",
    "        self.sequence.possiblekmers(k) = poss\n",
    "        lc = obs/poss\n",
    "        return lc\n",
    "\n",
    "    \n",
    "    \n",
    "      \n",
    "f = open('sampleseq.fasta', 'r')\n",
    "fasta = f.readlines()\n",
    "sequence = Seq(fasta[1].rstrip())\n",
    "#print(sequence)\n",
    "#print(len(sequence))\n",
    "print([sequence.observedkmers(3), sequence.observedkmers(4)])\n",
    "print(sequence.possiblekmers(3))\n",
    "print(sequence.observedkmers(4))\n",
    "print(sequence.possiblekmers(4))\n",
    "print(sequence.observedkmers(5))\n",
    "print(sequence.possiblekmers(5))\n",
    "\n",
    "#3. Add a method to create a pandas data frame containing all possible k and the associated\n",
    "#number of observed and expected kmers (see above table).\n",
    "#counter_df = pd.DataFrame(sequence.observedkmers(3), index=['kmer'])\n",
    "#print(counter_df)\n",
    "#4. Add a method to produce a graph from the data frame of the proportion of each kmer\n",
    "#observed.\n",
    "#counter_df.plot(kind='bar')\n",
    "\n",
    "\n",
    "knum = []\n",
    "observed = []\n",
    "possible = []\n",
    "for i in range(1,len(sequence)+1):\n",
    "    knum = [].join(sequence.knum(i))\n",
    "    observed += sequence.observedkmers(i)\n",
    "    possible += sequence.possiblekmers(i)"
   ]
  }
 ],
 "metadata": {
  "kernelspec": {
   "display_name": "Python 3",
   "language": "python",
   "name": "python3"
  },
  "language_info": {
   "codemirror_mode": {
    "name": "ipython",
    "version": 3
   },
   "file_extension": ".py",
   "mimetype": "text/x-python",
   "name": "python",
   "nbconvert_exporter": "python",
   "pygments_lexer": "ipython3",
   "version": "3.6.3"
  }
 },
 "nbformat": 4,
 "nbformat_minor": 2
}
