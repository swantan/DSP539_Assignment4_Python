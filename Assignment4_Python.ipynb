{
 "cells": [
  {
   "cell_type": "code",
   "execution_count": 2,
   "metadata": {},
   "outputs": [],
   "source": [
    "import glob\n",
    "import pandas as pd\n",
    "import matplotlib.pyplot as plt\n",
    "import sys\n",
    "from Bio import SeqIO"
   ]
  },
  {
   "cell_type": "code",
   "execution_count": 3,
   "metadata": {},
   "outputs": [],
   "source": [
    "#run on the command line as: python seq_complexity.py 16S.E.ALL.unaligned.fasta\n",
    "#inFile = open(sys.argv[1], 'r')\n",
    "#inFileopen('nd2.fasta','r')\n",
    "#a = inFile.readlines()\n",
    "#a.sort()\n",
    "#seq = ''.join(a[0:])\n",
    "#seq = seq.replace('\\n', \"\\n\")\n",
    "#print seq()"
   ]
  },
  {
   "cell_type": "code",
   "execution_count": null,
   "metadata": {},
   "outputs": [],
   "source": [
    "f1 = open('nd2_seq.fasta', 'w')\n",
    "for record in SeqIO.parse(\"nd2.fasta\", \"fasta\"):\n",
    "    print(\"%s\" % (record.seq))\n",
    "    f1.write(\"%s\" % (record.seq))"
   ]
  },
  {
   "cell_type": "code",
   "execution_count": null,
   "metadata": {},
   "outputs": [],
   "source": []
  },
  {
   "cell_type": "code",
   "execution_count": 16,
   "metadata": {},
   "outputs": [
    {
     "data": {
      "text/plain": [
       "'TTATTAATGAACCCCTACGCCAAACTAACATTCTCCCTAAGCCTTGCACTAGGAACAACCATTACCATTTCAAGCAACCATTGAATAATAGCCTGAGCCGGGCTTGAAATCAACACCCTAGCCATCCTCCCCCTCATTTCAAAACCCCACCACCCCCGAGCTATTGAAGCAACAATCAAATACTTCCTAGTCCAAGCTACCGCCTCTACCCTTCTACTCTTCTCAAGTATAATTAATGCCTGACACACAGGACAATGAGACATCACCCAACTTAGCTACCCTACATCATCCCTACTGCTAACCATTGCAATCGCAATAAAACTCGGCCTAGTTCCATTCCACTTCTGATTTCCAGAAGTCCTTCAAGGCTCTCCCCTAACCACAGCCATACTTCTTTCAACAGTAATAAAACTCCCCCCAATCACCATTCTCTTCCTTACATCACACTCACTAAACCCAACCCTCCTCACCTTAATAGCAATCGCTTCAACTGCATTAGGGGGGTGAATGGGACTAAACCAAACACAGATCCGGAAAATCCTAGCCTTCTCATCAATCTCCCACCTAGGATGAATAACTATTACCCTCATCTACAACCCAAAATTAACGCTAATAGCCTTTTACCTCTACTGCATTATAACCGGCGCTATCTTCCTAACACTTAACACTACAAAATCCCTCAAACTACCAACAATAATAACCTCCTGAACAAAAGCCCCAATACTCAACACAACATTAATAATGACACTACTATCACTAGCAGGCCTACCCCCACTAACAGGCTTCCTGCCCAAATGACTCATCATCCAAGAGCTCTCTAAACAAGAAATAGCCACCTCCGCCACAATTATCTCTATCCTGTCTCTACTGGGCCTATTCTTCTACCTCCGCTTAGCCTACTACTCAACAATCACTTTACCACCCAACCCCACAAACCACATAAAACAGTGACACATTAACAAACCCACAAGCACCCTAATCGCCACACTCTCCTCCATGTCATCCCTCCTACTCCCACTGTCCCCAATAACCCTCGCCTTCATCTAA\\n'"
      ]
     },
     "execution_count": 16,
     "metadata": {},
     "output_type": "execute_result"
    }
   ],
   "source": [
    "f = open('nd2.fasta', 'r') \n",
    "sequence = f.readlines()\n",
    "sequence[1]\n",
    "#sequence[2]"
   ]
  },
  {
   "cell_type": "code",
   "execution_count": null,
   "metadata": {},
   "outputs": [],
   "source": [
    "import glob\n",
    "filelist = glob.glob('*.fasta')\n",
    "print(filelist)"
   ]
  },
  {
   "cell_type": "code",
   "execution_count": 9,
   "metadata": {},
   "outputs": [],
   "source": [
    "#to separate one fasta file into multiple fasta files with the filename = the header of the sequence\n",
    "infile = open('nd2.fasta', 'r')\n",
    "outfile = []\n",
    "\n",
    "for line in infile:\n",
    "    if line.startswith(\">\"):\n",
    "        if (outfile != []): outfile.close()\n",
    "        genename = line.strip().split('>')[1]\n",
    "        filename = genename+\".fasta\"\n",
    "        outfile = open(filename,'w')\n",
    "        for \n",
    "        outfile.write(line)\n",
    "    else:\n",
    "        outfile.write(line)\n",
    "outfile.close()"
   ]
  },
  {
   "cell_type": "code",
   "execution_count": 3,
   "metadata": {},
   "outputs": [
    {
     "ename": "FileNotFoundError",
     "evalue": "[Errno 2] No such file or directory: 'test.fasta'",
     "output_type": "error",
     "traceback": [
      "\u001b[0;31m---------------------------------------------------------------------------\u001b[0m",
      "\u001b[0;31mFileNotFoundError\u001b[0m                         Traceback (most recent call last)",
      "\u001b[0;32m<ipython-input-3-bb973a62ac8c>\u001b[0m in \u001b[0;36m<module>\u001b[0;34m()\u001b[0m\n\u001b[1;32m      1\u001b[0m \u001b[0;31m#to check sequence content\u001b[0m\u001b[0;34m\u001b[0m\u001b[0;34m\u001b[0m\u001b[0m\n\u001b[0;32m----> 2\u001b[0;31m \u001b[0mfile\u001b[0m \u001b[0;34m=\u001b[0m \u001b[0mopen\u001b[0m\u001b[0;34m(\u001b[0m\u001b[0;34m'test.fasta'\u001b[0m\u001b[0;34m,\u001b[0m \u001b[0;34m'r'\u001b[0m\u001b[0;34m)\u001b[0m\u001b[0;34m\u001b[0m\u001b[0m\n\u001b[0m\u001b[1;32m      3\u001b[0m \u001b[0msequence\u001b[0m \u001b[0;34m=\u001b[0m \u001b[0mfile\u001b[0m\u001b[0;34m.\u001b[0m\u001b[0mreadlines\u001b[0m\u001b[0;34m(\u001b[0m\u001b[0;34m)\u001b[0m\u001b[0;34m\u001b[0m\u001b[0m\n\u001b[1;32m      4\u001b[0m \u001b[0mprint\u001b[0m\u001b[0;34m(\u001b[0m\u001b[0mlen\u001b[0m\u001b[0;34m(\u001b[0m\u001b[0msequence\u001b[0m\u001b[0;34m[\u001b[0m\u001b[0;36m1\u001b[0m\u001b[0;34m]\u001b[0m\u001b[0;34m)\u001b[0m\u001b[0;34m-\u001b[0m\u001b[0;36m1\u001b[0m\u001b[0;34m)\u001b[0m\u001b[0;34m\u001b[0m\u001b[0m\n\u001b[1;32m      5\u001b[0m \u001b[0mprint\u001b[0m\u001b[0;34m(\u001b[0m\u001b[0msequence\u001b[0m\u001b[0;34m[\u001b[0m\u001b[0;36m0\u001b[0m\u001b[0;34m]\u001b[0m\u001b[0;34m)\u001b[0m\u001b[0;34m\u001b[0m\u001b[0m\n",
      "\u001b[0;31mFileNotFoundError\u001b[0m: [Errno 2] No such file or directory: 'test.fasta'"
     ]
    }
   ],
   "source": [
    "#to check sequence content\n",
    "file = open('test.fasta', 'r') \n",
    "sequence = file.readlines()\n",
    "print(len(sequence[1])-1)\n",
    "print(sequence[0])"
   ]
  },
  {
   "cell_type": "code",
   "execution_count": 10,
   "metadata": {},
   "outputs": [
    {
     "data": {
      "text/plain": [
       "3"
      ]
     },
     "execution_count": 10,
     "metadata": {},
     "output_type": "execute_result"
    }
   ],
   "source": [
    "len(list(set('ATTTGGATT')))\n",
    "#len(list(set('ACTG')))"
   ]
  },
  {
   "cell_type": "code",
   "execution_count": 6,
   "metadata": {},
   "outputs": [
    {
     "ename": "NameError",
     "evalue": "name 'sequence' is not defined",
     "output_type": "error",
     "traceback": [
      "\u001b[0;31m---------------------------------------------------------------------------\u001b[0m",
      "\u001b[0;31mNameError\u001b[0m                                 Traceback (most recent call last)",
      "\u001b[0;32m<ipython-input-6-63326c8d001d>\u001b[0m in \u001b[0;36m<module>\u001b[0;34m()\u001b[0m\n\u001b[0;32m----> 1\u001b[0;31m \u001b[0;34m(\u001b[0m\u001b[0mlen\u001b[0m\u001b[0;34m(\u001b[0m\u001b[0msequence\u001b[0m\u001b[0;34m[\u001b[0m\u001b[0;36m1\u001b[0m\u001b[0;34m]\u001b[0m\u001b[0;34m)\u001b[0m\u001b[0;34m)\u001b[0m\u001b[0;34m\u001b[0m\u001b[0m\n\u001b[0m",
      "\u001b[0;31mNameError\u001b[0m: name 'sequence' is not defined"
     ]
    }
   ],
   "source": [
    "(len(sequence[1]))"
   ]
  },
  {
   "cell_type": "code",
   "execution_count": null,
   "metadata": {},
   "outputs": [],
   "source": [
    "#Observed kmers\n",
    "for k in range(1,len(sequence[1])-1):\n",
    "    if k == 1:\n",
    "        counter = list(set(sequence[1].strip()))\n",
    "    else:\n",
    "        counter = {}\n",
    "        for line_num,line in enumerate(sequence):   #go through each line of the fastq file\n",
    "            if line_num == 1:    #== is checking, = is assignment\n",
    "                line = line.rstrip() #remove newline \\n\n",
    "                for i,base in enumerate(line[:-k+1]): #no longer count base individually, slice it in pairs, \n",
    "                    kmer = line[i:i+k]  #remember not inclusive\n",
    "                    if kmer in counter:\n",
    "                        counter[kmer] += 1  #if kmer has already in the dictionary, add it\n",
    "                    else:\n",
    "                        counter[kmer] = 1   #if kmer is not in dictionary, then define it\n",
    "    print(k,':',len(counter))"
   ]
  },
  {
   "cell_type": "code",
   "execution_count": 39,
   "metadata": {},
   "outputs": [
    {
     "ename": "NameError",
     "evalue": "name 'sequence' is not defined",
     "output_type": "error",
     "traceback": [
      "\u001b[0;31m---------------------------------------------------------------------------\u001b[0m",
      "\u001b[0;31mNameError\u001b[0m                                 Traceback (most recent call last)",
      "\u001b[0;32m<ipython-input-39-bc0b96bdad8e>\u001b[0m in \u001b[0;36m<module>\u001b[0;34m()\u001b[0m\n\u001b[1;32m      1\u001b[0m \u001b[0;31m#Possible kmers\u001b[0m\u001b[0;34m\u001b[0m\u001b[0;34m\u001b[0m\u001b[0m\n\u001b[0;32m----> 2\u001b[0;31m \u001b[0;32mfor\u001b[0m \u001b[0mk\u001b[0m \u001b[0;32min\u001b[0m \u001b[0mrange\u001b[0m\u001b[0;34m(\u001b[0m\u001b[0;36m1\u001b[0m\u001b[0;34m,\u001b[0m\u001b[0;34m(\u001b[0m\u001b[0mlen\u001b[0m\u001b[0;34m(\u001b[0m\u001b[0msequence\u001b[0m\u001b[0;34m[\u001b[0m\u001b[0;36m1\u001b[0m\u001b[0;34m]\u001b[0m\u001b[0;34m)\u001b[0m\u001b[0;34m-\u001b[0m\u001b[0;36m1\u001b[0m\u001b[0;34m)\u001b[0m\u001b[0;34m)\u001b[0m\u001b[0;34m:\u001b[0m\u001b[0;34m\u001b[0m\u001b[0m\n\u001b[0m\u001b[1;32m      3\u001b[0m     \u001b[0;32mif\u001b[0m \u001b[0mk\u001b[0m \u001b[0;34m==\u001b[0m \u001b[0;36m1\u001b[0m\u001b[0;34m:\u001b[0m\u001b[0;34m\u001b[0m\u001b[0m\n\u001b[1;32m      4\u001b[0m         \u001b[0mcounter\u001b[0m \u001b[0;34m=\u001b[0m \u001b[0;36m4\u001b[0m\u001b[0;34m**\u001b[0m\u001b[0;36m1\u001b[0m\u001b[0;34m\u001b[0m\u001b[0m\n\u001b[1;32m      5\u001b[0m     \u001b[0;32melse\u001b[0m\u001b[0;34m:\u001b[0m\u001b[0;34m\u001b[0m\u001b[0m\n",
      "\u001b[0;31mNameError\u001b[0m: name 'sequence' is not defined"
     ]
    }
   ],
   "source": [
    "#Possible kmers\n",
    "for k in range(1,(len(sequence[1])-1)):\n",
    "    if k == 1:\n",
    "        counter = 4**1\n",
    "    else:\n",
    "        for line_num,line in enumerate(sequence):   #go through each line of the fastq file\n",
    "            if line_num == 1:    #== is checking, = is assignment\n",
    "                line = line.rstrip() #remove newline \\n\n",
    "                for i,base in enumerate(line[:-k+1]): #no longer count base individually, slice it in pairs, \n",
    "                    kmer = line[i:i+k]  #remember not inclusive\n",
    "                    if 4**k < (len(sequence[1])-1):\n",
    "                        counter = 4**k\n",
    "                    else:\n",
    "                        counter = (len(sequence[1])-1) - k + 1\n",
    "    print(k,':',counter)"
   ]
  },
  {
   "cell_type": "code",
   "execution_count": 31,
   "metadata": {},
   "outputs": [
    {
     "name": "stdout",
     "output_type": "stream",
     "text": [
      "TTATTAGTG\n"
     ]
    },
    {
     "data": {
      "text/plain": [
       "9"
      ]
     },
     "execution_count": 31,
     "metadata": {},
     "output_type": "execute_result"
    }
   ],
   "source": [
    "f = open('Adelomyia_melanogenys.fasta copy', 'r')\n",
    "fasta = f.readlines()\n",
    "seq = fasta[1].rstrip()\n",
    "print(seq)\n",
    "len(seq)"
   ]
  },
  {
   "cell_type": "code",
   "execution_count": null,
   "metadata": {},
   "outputs": [],
   "source": [
    "#Observed kmers\n",
    "for k in range(1,len(seq)+1):\n",
    "    counter = {}\n",
    "    for i,base in enumerate(seq): #no longer count base individually, slice it in pairs, \n",
    "        print('i',i)\n",
    "        kmer = line[i:i+k]  #remember not inclusive\n",
    "        print('kmer', kmer)\n",
    "        if kmer in counter:\n",
    "            counter[kmer] += 1  #if kmer has already in the dictionary, add it\n",
    "        else:\n",
    "            counter[kmer] = 1   #if kmer is not in dictionary, then define it\n",
    "    print(k,':',len(counter))"
   ]
  },
  {
   "cell_type": "code",
   "execution_count": 51,
   "metadata": {},
   "outputs": [
    {
     "name": "stdout",
     "output_type": "stream",
     "text": [
      "kmer T\n",
      "0\n",
      "1\n",
      "kmer T\n",
      "2\n",
      "kmer A\n",
      "0\n",
      "1\n",
      "kmer T\n",
      "3\n",
      "kmer T\n",
      "4\n",
      "kmer A\n",
      "2\n",
      "kmer G\n",
      "0\n",
      "1\n",
      "kmer T\n",
      "5\n",
      "kmer G\n",
      "2\n",
      "1 : 3\n",
      "kmer TT\n",
      "0\n",
      "1\n",
      "kmer TA\n",
      "0\n",
      "1\n",
      "kmer AT\n",
      "0\n",
      "1\n",
      "kmer TT\n",
      "2\n",
      "kmer TA\n",
      "2\n",
      "kmer AG\n",
      "0\n",
      "1\n",
      "kmer GT\n",
      "0\n",
      "1\n",
      "kmer TG\n",
      "0\n",
      "1\n",
      "2 : 6\n",
      "kmer TTA\n",
      "0\n",
      "1\n",
      "kmer TAT\n",
      "0\n",
      "1\n",
      "kmer ATT\n",
      "0\n",
      "1\n",
      "kmer TTA\n",
      "2\n",
      "kmer TAG\n",
      "0\n",
      "1\n",
      "kmer AGT\n",
      "0\n",
      "1\n",
      "kmer GTG\n",
      "0\n",
      "1\n",
      "3 : 6\n",
      "kmer TTAT\n",
      "0\n",
      "1\n",
      "kmer TATT\n",
      "0\n",
      "1\n",
      "kmer ATTA\n",
      "0\n",
      "1\n",
      "kmer TTAG\n",
      "0\n",
      "1\n",
      "kmer TAGT\n",
      "0\n",
      "1\n",
      "kmer AGTG\n",
      "0\n",
      "1\n",
      "4 : 6\n",
      "kmer TTATT\n",
      "0\n",
      "1\n",
      "kmer TATTA\n",
      "0\n",
      "1\n",
      "kmer ATTAG\n",
      "0\n",
      "1\n",
      "kmer TTAGT\n",
      "0\n",
      "1\n",
      "kmer TAGTG\n",
      "0\n",
      "1\n",
      "5 : 5\n",
      "kmer TTATTA\n",
      "0\n",
      "1\n",
      "kmer TATTAG\n",
      "0\n",
      "1\n",
      "kmer ATTAGT\n",
      "0\n",
      "1\n",
      "kmer TTAGTG\n",
      "0\n",
      "1\n",
      "6 : 4\n",
      "kmer TTATTAG\n",
      "0\n",
      "1\n",
      "kmer TATTAGT\n",
      "0\n",
      "1\n",
      "kmer ATTAGTG\n",
      "0\n",
      "1\n",
      "7 : 3\n",
      "kmer TTATTAGT\n",
      "0\n",
      "1\n",
      "kmer TATTAGTG\n",
      "0\n",
      "1\n",
      "8 : 2\n",
      "kmer TTATTAGTG\n",
      "0\n",
      "1\n",
      "9 : 1\n"
     ]
    }
   ],
   "source": [
    "\n",
    "#To generate observed kmers\n",
    "f = open('Adelomyia_melanogenys.fasta copy', 'r')\n",
    "fasta = f.readlines()\n",
    "seq = fasta[1].rstrip()\n",
    "for k in range(1,len(seq)+1):\n",
    "    counter = {}\n",
    "    for i in range(len(seq)-k+1):\n",
    "        kmer = seq[i:i+k]\n",
    "        print('kmer',kmer)\n",
    "        if kmer not in counter:\n",
    "            print('0')\n",
    "            counter[kmer] = 0\n",
    "        counter[kmer]+=1\n",
    "        print(counter[kmer])\n",
    "    print(k,':', len(counter))"
   ]
  },
  {
   "cell_type": "code",
   "execution_count": 55,
   "metadata": {},
   "outputs": [],
   "source": [
    "#To generate observed kmers\n",
    "def observed(seq):\n",
    "    for k in range(1,len(seq)+1):\n",
    "        counter = {}\n",
    "        for i in range(len(seq)-k+1):\n",
    "            kmer = seq[i:i+k]\n",
    "            if kmer not in counter:\n",
    "                counter[kmer] = 0\n",
    "            counter[kmer]+=1\n",
    "        print(k,':', len(counter))"
   ]
  },
  {
   "cell_type": "code",
   "execution_count": 56,
   "metadata": {},
   "outputs": [
    {
     "name": "stdout",
     "output_type": "stream",
     "text": [
      "1 : 3\n",
      "2 : 4\n",
      "3 : 4\n",
      "4 : 3\n",
      "5 : 2\n",
      "6 : 1\n"
     ]
    }
   ],
   "source": [
    "observed('ATTTGA')"
   ]
  },
  {
   "cell_type": "code",
   "execution_count": 53,
   "metadata": {},
   "outputs": [
    {
     "data": {
      "text/plain": [
       "range(1, 11)"
      ]
     },
     "execution_count": 53,
     "metadata": {},
     "output_type": "execute_result"
    }
   ],
   "source": [
    "range(1,len(fasta[1])+1)"
   ]
  },
  {
   "cell_type": "code",
   "execution_count": null,
   "metadata": {},
   "outputs": [],
   "source": [
    "line[:-1039+2]\n",
    "line[0:1039]"
   ]
  },
  {
   "cell_type": "code",
   "execution_count": null,
   "metadata": {},
   "outputs": [],
   "source": [
    "#TEST\n",
    "#To generate observed kmers\n",
    "for k in range(1,len(fasta[1])+1):\n",
    "    if k == 1:\n",
    "        counter = list(set(fasta[1].strip()))\n",
    "    else:\n",
    "        counter = {}\n",
    "        for line_num,line in enumerate(fasta):   #go through each line of the fastq file\n",
    "            if line_num == 1:    #== is checking, = is assignment\n",
    "                line = line.rstrip() #remove newline \\n\n",
    "                for i,base in enumerate(line[:-k+2]): #no longer count base individually, slice it in pairs, \n",
    "                    kmer = line[i:i+k]  #remember not inclusive\n",
    "                    if kmer in counter:\n",
    "                        counter[kmer] += 1  #if kmer has already in the dictionary, add it\n",
    "                    else:\n",
    "                        counter[kmer] = 1   #if kmer is not in dictionary, then define it\n",
    "    print(k,':', len(counter))"
   ]
  },
  {
   "cell_type": "code",
   "execution_count": 43,
   "metadata": {},
   "outputs": [
    {
     "name": "stdout",
     "output_type": "stream",
     "text": [
      "1 : 4\n",
      "2 : 9\n",
      "3 : 8\n",
      "4 : 7\n",
      "5 : 6\n",
      "6 : 5\n",
      "7 : 4\n",
      "8 : 3\n",
      "9 : 2\n",
      "10 : 1\n"
     ]
    }
   ],
   "source": [
    "#To generate possible kmers\n",
    "f = open('Adelomyia_melanogenys.fasta copy', 'r')\n",
    "fasta = f.readlines()\n",
    "for k in range(1,len(fasta[1])+1):\n",
    "    if k == 1:\n",
    "        counter = 4**1\n",
    "    else:\n",
    "        if 4**k < (len(fasta[1])):\n",
    "            counter = 4**k\n",
    "        else:\n",
    "            counter = (len(fasta[1])) - k + 1\n",
    "    print(k,':', counter)\n",
    "    #print(counter)\n",
    "    #d = counter\n",
    "    #print(d)\n",
    "    #type(d)\n",
    "    #df = pd.DataFrame(data=d)\n",
    "    \n",
    "    "
   ]
  },
  {
   "cell_type": "code",
   "execution_count": 1,
   "metadata": {},
   "outputs": [
    {
     "ename": "NameError",
     "evalue": "name 'fasta' is not defined",
     "output_type": "error",
     "traceback": [
      "\u001b[0;31m---------------------------------------------------------------------------\u001b[0m",
      "\u001b[0;31mNameError\u001b[0m                                 Traceback (most recent call last)",
      "\u001b[0;32m<ipython-input-1-3267cf8dcec1>\u001b[0m in \u001b[0;36m<module>\u001b[0;34m()\u001b[0m\n\u001b[1;32m      1\u001b[0m \u001b[0;31m#TEST\u001b[0m\u001b[0;34m\u001b[0m\u001b[0;34m\u001b[0m\u001b[0m\n\u001b[1;32m      2\u001b[0m \u001b[0;31m#To generate observed kmers\u001b[0m\u001b[0;34m\u001b[0m\u001b[0;34m\u001b[0m\u001b[0m\n\u001b[0;32m----> 3\u001b[0;31m \u001b[0;32mfor\u001b[0m \u001b[0mk\u001b[0m \u001b[0;32min\u001b[0m \u001b[0mrange\u001b[0m\u001b[0;34m(\u001b[0m\u001b[0;36m1\u001b[0m\u001b[0;34m,\u001b[0m\u001b[0mlen\u001b[0m\u001b[0;34m(\u001b[0m\u001b[0mfasta\u001b[0m\u001b[0;34m[\u001b[0m\u001b[0;36m1\u001b[0m\u001b[0;34m]\u001b[0m\u001b[0;34m)\u001b[0m\u001b[0;34m+\u001b[0m\u001b[0;36m1\u001b[0m\u001b[0;34m)\u001b[0m\u001b[0;34m:\u001b[0m\u001b[0;34m\u001b[0m\u001b[0m\n\u001b[0m\u001b[1;32m      4\u001b[0m     \u001b[0;32mif\u001b[0m \u001b[0mk\u001b[0m \u001b[0;34m==\u001b[0m \u001b[0;36m1\u001b[0m\u001b[0;34m:\u001b[0m\u001b[0;34m\u001b[0m\u001b[0m\n\u001b[1;32m      5\u001b[0m         \u001b[0mcounter\u001b[0m \u001b[0;34m=\u001b[0m \u001b[0mlist\u001b[0m\u001b[0;34m(\u001b[0m\u001b[0mset\u001b[0m\u001b[0;34m(\u001b[0m\u001b[0mfasta\u001b[0m\u001b[0;34m[\u001b[0m\u001b[0;36m1\u001b[0m\u001b[0;34m]\u001b[0m\u001b[0;34m.\u001b[0m\u001b[0mstrip\u001b[0m\u001b[0;34m(\u001b[0m\u001b[0;34m)\u001b[0m\u001b[0;34m)\u001b[0m\u001b[0;34m)\u001b[0m\u001b[0;34m\u001b[0m\u001b[0m\n",
      "\u001b[0;31mNameError\u001b[0m: name 'fasta' is not defined"
     ]
    }
   ],
   "source": [
    "#TEST\n",
    "#To generate observed kmers\n",
    "for k in range(1,len(fasta[1])+1):\n",
    "    if k == 1:\n",
    "        counter = list(set(fasta[1].strip()))\n",
    "    elif k == 2:\n",
    "        counter = {}\n",
    "        for line_num,line in enumerate(fasta):   #go through each line of the fastq file\n",
    "            if line_num == 1:    #== is checking, = is assignment\n",
    "                line = line.rstrip() #remove newline \\n\n",
    "                for i,base in enumerate(line[:-k+1]): #no longer count base individually, slice it in pairs, \n",
    "                    kmer = line[i:i+k]  #remember not inclusive\n",
    "                    if kmer in counter:\n",
    "                        counter[kmer] += 1  #if kmer has already in the dictionary, add it\n",
    "                    else:\n",
    "                        counter[kmer] = 1\n",
    "    else:\n",
    "        counter = {}\n",
    "        for line_num,line in enumerate(fasta):   #go through each line of the fastq file\n",
    "            if line_num == 1:    #== is checking, = is assignment\n",
    "                line = line.rstrip() #remove newline \\n\n",
    "                for i,base in enumerate(line[:-k+2]): #no longer count base individually, slice it in pairs, \n",
    "                    kmer = line[i:i+k]  #remember not inclusive\n",
    "                    if kmer in counter:\n",
    "                        counter[kmer] += 1  #if kmer has already in the dictionary, add it\n",
    "                    else:\n",
    "                        counter[kmer] = 1   #if kmer is not in dictionary, then define it\n",
    "    print(k,':', len(counter))"
   ]
  },
  {
   "cell_type": "code",
   "execution_count": null,
   "metadata": {},
   "outputs": [],
   "source": [
    "#TEST\n",
    "#To generate observed kmers\n",
    "for k in range(1,len(fasta[1])+1):\n",
    "    if k == 1:\n",
    "        counter = list(set(fasta[1].strip()))\n",
    "    elif k == len(fasta[1]):\n",
    "        counter = 1\n",
    "    else:\n",
    "        counter = {}\n",
    "        for line_num,line in enumerate(fasta):   #go through each line of the fastq file\n",
    "            if line_num == 1:    #== is checking, = is assignment\n",
    "                line = line.rstrip() #remove newline \\n\n",
    "                for i,base in enumerate(line[:-k+1]): #no longer count base individually, slice it in pairs, \n",
    "                    kmer = line[i:i+k]  #remember not inclusive\n",
    "                    if kmer in counter:\n",
    "                        counter[kmer] += 1  #if kmer has already in the dictionary, add it\n",
    "                    else:\n",
    "                        counter[kmer] = 1   #if kmer is not in dictionary, then define it\n",
    "        print(k,':', len(counter))"
   ]
  },
  {
   "cell_type": "code",
   "execution_count": null,
   "metadata": {},
   "outputs": [],
   "source": [
    "for filename in glob.glob('*fasta'):\n",
    "    f = open(filename,'r')\n",
    "    fasta = f.readlines()\n",
    "    counter = count_kmers(k, fasta, counter)\n",
    "print(counter)"
   ]
  }
 ],
 "metadata": {
  "kernelspec": {
   "display_name": "Python 3",
   "language": "python",
   "name": "python3"
  },
  "language_info": {
   "codemirror_mode": {
    "name": "ipython",
    "version": 3
   },
   "file_extension": ".py",
   "mimetype": "text/x-python",
   "name": "python",
   "nbconvert_exporter": "python",
   "pygments_lexer": "ipython3",
   "version": "3.6.3"
  }
 },
 "nbformat": 4,
 "nbformat_minor": 2
}
